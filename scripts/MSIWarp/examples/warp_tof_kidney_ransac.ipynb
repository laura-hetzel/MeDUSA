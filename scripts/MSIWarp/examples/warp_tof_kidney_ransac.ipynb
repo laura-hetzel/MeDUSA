{
 "cells": [
  {
   "cell_type": "code",
   "execution_count": 1,
   "metadata": {},
   "outputs": [
    {
     "name": "stdout",
     "output_type": "stream",
     "text": [
      "sigma: 150.0 ppm, and epsilon: 765.00 ppm\n"
     ]
    }
   ],
   "source": [
    "import msiwarp as mx\n",
    "\n",
    "from msiwarp.util.read_sbd import read_sbd_meta, read_spectrum_fs\n",
    "from msiwarp.util.warp import to_mx_peaks, to_mz, to_height, peak_density_mz\n",
    "from msiwarp.util.warp import spectra_to_triplet, plot_range, get_mx_spectrum\n",
    "from msiwarp.util.warp import generate_mean_spectrum\n",
    "\n",
    "import matplotlib.pyplot as plt\n",
    "import numpy as np\n",
    "\n",
    "\n",
    "# scaling to test impact of sigma on alignment performance\n",
    "sigma_1 = 1.5e-4\n",
    "epsilon = 2.55\n",
    "slack = 2.0 * epsilon * sigma_1\n",
    "\n",
    "print(\"sigma: {} ppm, and epsilon: {:0.2f} ppm\".format(sigma_1 * 1e6, slack * 1e6))\n",
    "\n",
    "fdir = 'datasets/tof-kidney/'\n",
    "\n",
    "fpath_sbd = fdir + '50um_sample_3neg-centroided-snr.sbd'\n",
    "fpath_triplets_raw = fdir + 'triplets_raw.dat'\n",
    "fpath_triplets_warped = fdir + 'triplets_warped.dat'\n",
    "fpath_dispersion_csv = fdir + 'results/dispersion_100.csv'\n",
    "fpath_scatter = fdir + 'results/scatter'\n",
    "\n",
    "# experiment settings\n",
    "instrument_type = 'tof'\n",
    "mz_begin = 450\n",
    "mz_end = 2000\n",
    "\n",
    "meta = read_sbd_meta(fpath_sbd)\n",
    "spectra = [get_mx_spectrum(fpath_sbd, meta, i, sigma_1, instrument_type) for i in range(len(meta))]\n",
    "tic = np.array([m[2] for m in meta])"
   ]
  },
  {
   "cell_type": "code",
   "execution_count": 3,
   "metadata": {},
   "outputs": [],
   "source": [
    "n_steps = 50\n",
    "n_peaks = 30\n",
    "max_n_nodes = 8\n",
    "\n",
    "ransac_params = mx.ransac_params(2,       # n_segments\n",
    "                                 50,      # n_iterations\n",
    "                                 2,       # n_samples\n",
    "                                 10,      # min_n_pairs\n",
    "                                 25,      # n_steps\n",
    "                                 slack,\n",
    "                                 mz_begin,\n",
    "                                 mz_end,\n",
    "                                 1.0)\n",
    "\n",
    "node_params = mx.params_uniform(mx.Instrument.TOF,\n",
    "                                n_steps,\n",
    "                                n_peaks,\n",
    "                                max_n_nodes,\n",
    "                                mz_begin,\n",
    "                                mz_end,\n",
    "                                slack)\n",
    "\n",
    "\n",
    "\n",
    "# --------- set reference spectrum ----------\n",
    "i_r = 200\n",
    "s_ref = spectra[i_r]"
   ]
  },
  {
   "cell_type": "code",
   "execution_count": 4,
   "metadata": {},
   "outputs": [
    {
     "name": "stdout",
     "output_type": "stream",
     "text": [
      "found optimal warpings in 378.74 seconds\n",
      "warped spectra in 9.75s\n"
     ]
    }
   ],
   "source": [
    "import time\n",
    "\n",
    "n_cores = 5\n",
    "\n",
    "t0 = time.time()\n",
    "warping_funcs = mx.find_optimal_warpings_ransac_uni(spectra, s_ref, ransac_params, node_params, epsilon, n_cores)\n",
    "t1 = time.time()\n",
    "print(\"found optimal warpings in {:0.2f} seconds\".format(t1 - t0))\n",
    "\n",
    "t2 = time.time()\n",
    "warped_spectra = [mx.warp_peaks_unique(s_i, r_i) for (s_i, r_i) in zip(spectra, warping_funcs)]\n",
    "t3 = time.time()\n",
    "print(\"warped spectra in {:0.2f}s\".format(t3 - t2))"
   ]
  },
  {
   "cell_type": "code",
   "execution_count": 68,
   "metadata": {},
   "outputs": [
    {
     "name": "stdout",
     "output_type": "stream",
     "text": [
      "wrote raw MSI triplets to file\n",
      "wrote warped MSI triplets to file\n"
     ]
    }
   ],
   "source": [
    "# save raw and warped data spectra in the MSI triplet format\n",
    "if mx.spectra_to_triplets(fpath_triplets_raw, spectra):\n",
    "    print(\"wrote raw MSI triplets to file\")\n",
    "    \n",
    "if mx.spectra_to_triplets(fpath_triplets_warped, warped_spectra):\n",
    "    print(\"wrote warped MSI triplets to file\")"
   ]
  },
  {
   "cell_type": "code",
   "execution_count": 69,
   "metadata": {},
   "outputs": [
    {
     "name": "stdout",
     "output_type": "stream",
     "text": [
      "generating mean spectrum with 39779 sampling points...\n",
      "generated mean spectrum\n",
      "made scatter plot output directory\n"
     ]
    },
    {
     "data": {
      "image/png": "[encoded data removed]",
      "text/plain": [
       "<Figure size 432x432 with 1 Axes>"
      ]
     },
     "metadata": {},
     "output_type": "display_data"
    }
   ],
   "source": [
    "# ---------- mean spectrum ----------\n",
    "n_points = 500000\n",
    "\n",
    "s_m = generate_mean_spectrum(warped_spectra, n_points, sigma_1,\n",
    "                             mz_begin, mz_end, tic, instrument_type)\n",
    "\n",
    "s_m_100 = mx.peaks_top_n(s_m, 100)\n",
    "mz_ref = np.sort(to_mz(s_m_100))\n",
    "\n",
    "\n",
    "# ---------- plot mass scatter around mean spectrum peaks ----------\n",
    "mass_tolerance = 350 # ppm\n",
    "\n",
    "import os\n",
    "\n",
    "if not os.path.exists(fpath_scatter):    \n",
    "    os.makedirs(fpath_scatter)\n",
    "    print(\"made scatter plot output directory\")\n",
    "else:\n",
    "    print(\"using existing scatter plot output directory\")\n",
    "    \n",
    "fig, ax = plt.subplots(figsize=(6,6))\n",
    "for i, mz_i in enumerate(mz_ref):\n",
    "    d = mass_tolerance * mz_i / 1e6 # -+ 350 ppm around reference mass \n",
    "    mz0 = mz_i - d\n",
    "    mz1 = mz_i + d    \n",
    "    \n",
    "    plot_range(fpath_triplets_raw, mz0, mz1, ax, 'tab:cyan', 5)\n",
    "    plot_range(fpath_triplets_warped, mz0, mz1, ax, 'tab:orange', 5)\n",
    "    \n",
    "    ax.set_facecolor((0.0, 0.0, 0.0))\n",
    "    ax.set_title('m/z {:0.3f}'.format(mz_i))\n",
    "    ax.set_xticks([mz0, mz_i, mz1])\n",
    "    \n",
    "    fig.savefig(fpath_scatter + '/mz_{}.png'.format(int(mz_i)), dpi=200)\n",
    "    ax.cla()"
   ]
  },
  {
   "cell_type": "code",
   "execution_count": 70,
   "metadata": {},
   "outputs": [
    {
     "name": "stdout",
     "output_type": "stream",
     "text": [
      "median mass dispersion raw: 107.0129\n",
      "median mass dispersion warped: 12.8076\n"
     ]
    }
   ],
   "source": [
    "# ---------- compute mass dispersions around mean spectrum ----------\n",
    "from msiwarp.util.warp import dispersion_triplets\n",
    "import pandas as pd\n",
    "\n",
    "dispersion_raw = np.zeros(len(mz_ref))\n",
    "dispersion_warped = np.zeros(len(mz_ref))\n",
    "    \n",
    "for i, mz_i in enumerate(mz_ref):\n",
    "    d = mass_tolerance * mz_i / 1e6 # -+ 350 ppm around reference mass\n",
    "    mz0 = mz_i - d\n",
    "    mz1 = mz_i + d\n",
    "    \n",
    "    ts_raw = mx.get_triplets_range(fpath_triplets_raw, mz0, mz1)\n",
    "    ts_warped = mx.get_triplets_range(fpath_triplets_warped, mz0, mz1)\n",
    "    \n",
    "    q = 0.25 # remove background signal\n",
    "    if len(ts_raw) > 0:\n",
    "        dispersion_raw[i] = dispersion_triplets(ts_raw,  q)\n",
    "    if len(ts_warped) > 0:  \n",
    "        dispersion_warped[i] = dispersion_triplets(ts_warped, q)\n",
    "\n",
    "\n",
    "d = {'mz': mz_ref,\n",
    "     'dispersion raw [ppm]': dispersion_raw,\n",
    "     'dispersion warped [ppm]': dispersion_warped}\n",
    "\n",
    "df = pd.DataFrame(d)\n",
    "df.round(4).to_csv(fpath_dispersion_csv, index=False)\n",
    "\n",
    "print('median mass dispersion raw: {:0.4f}'.format(np.median(dispersion_raw)))\n",
    "print('median mass dispersion warped: {:0.4f}'.format(np.median(dispersion_warped)))"
   ]
  },
  {
   "cell_type": "code",
   "execution_count": 67,
   "metadata": {},
   "outputs": [
    {
     "name": "stdout",
     "output_type": "stream",
     "text": [
      "281\n"
     ]
    },
    {
     "data": {
      "image/png": "[encoded data removed]",
      "text/plain": [
       "<Figure size 720x432 with 1 Axes>"
      ]
     },
     "metadata": {},
     "output_type": "display_data"
    }
   ],
   "source": [
    "from msiwarp.util.warp import plot_peak_matches, plot_warping\n",
    "\n",
    "i_s = np.random.choice(len(spectra))\n",
    "s_s = spectra[i_s]\n",
    "\n",
    "recal = warping_funcs[i_s]\n",
    "xw = ([w[0] for w in recal])\n",
    "yw = np.array([w[1] for w in recal])\n",
    "\n",
    "pms = mx.overlapping_peak_pairs(s_ref, s_s, epsilon)\n",
    "n_peak_matches = len(pms)\n",
    "print(n_peak_matches)\n",
    "    \n",
    "_, ax = plt.subplots(figsize=(10,6))\n",
    "ax.axhline(0, c='tab:gray')\n",
    "plot_peak_matches(pms, 0.5, 150, ax=ax)\n",
    "ax.plot(xw, -yw, '-o', c='tab:orange')\n",
    "plt.show()"
   ]
  },
  {
   "cell_type": "code",
   "execution_count": 104,
   "metadata": {},
   "outputs": [],
   "source": []
  },
  {
   "cell_type": "code",
   "execution_count": 126,
   "metadata": {},
   "outputs": [
    {
     "name": "stdout",
     "output_type": "stream",
     "text": [
      "ransac took 16.47 milliseconds\n",
      "1\n"
     ]
    },
    {
     "data": {
      "image/png": "[encoded data removed]",
      "text/plain": [
       "<Figure size 864x720 with 1 Axes>"
      ]
     },
     "metadata": {},
     "output_type": "display_data"
    }
   ],
   "source": [
    "from msiwarp.util.warp import plot_peak_matches\n",
    "\n",
    "# Test RANSAC\n",
    "i_r = 200\n",
    "i_s = np.random.choice(len(spectra))\n",
    "s_s = spectra[i_s]\n",
    "s_r = spectra[i_r]\n",
    "\n",
    "pms = mx.overlapping_peak_pairs(s_r, s_s, epsilon)\n",
    "\n",
    "ransac_nodes = mx.get_warping_nodes_uniform(pms, node_params)\n",
    "pms_range = [mx.peak_pairs_between(pms, ransac_nodes[i].mz, ransac_nodes[i+1].mz) for i in range(len(ransac_nodes) - 1)]\n",
    "rr = mx.ransac(pms_range, ransac_nodes, ransac_params.n_iterations, ransac_params.n_samples, ransac_params.distance_threshold)\n",
    "i_best_model = np.argmax([np.sum(inliers) for inliers in rr.inliers])\n",
    "inliers = rr.inliers[i_best_model]\n",
    "\n",
    "pms_inliers = [pms[i] for i in range(len(pms)) if inliers[i]]\n",
    "pms_outliers = [pms[i] for i in range(len(pms)) if not inliers[i]]\n",
    "\n",
    "t0 = time.time()\n",
    "pms_ransac = mx.ransac_pairs(pms, ransac_params, node_params)\n",
    "t1 = time.time()\n",
    "\n",
    "print(\"ransac took {:0.2f} milliseconds\".format((t1 - t0) * 1e3))\n",
    "print(len(pms_ransac) - len(pms_inliers))\n",
    "\n",
    "_, ax = plt.subplots(figsize=(12,10))\n",
    "ax.axhline(0, c='tab:gray')\n",
    "plot_peak_matches(pms_ransac, 0.5, 250, ax=ax, c='tab:blue', alpha=0.75)\n",
    "plot_peak_matches(pms_outliers, 0.5, 50, ax=ax, c='tab:blue', alpha=0.25, marker='s')\n",
    "\n",
    "# ax.plot(xw, -yw, '-o', c='tab:orange')\n",
    "plt.show()"
   ]
  }
 ],
 "metadata": {
  "kernelspec": {
   "display_name": "",
   "name": ""
  },
  "language_info": {
   "codemirror_mode": {
    "name": "ipython",
    "version": 3
   },
   "file_extension": ".py",
   "mimetype": "text/x-python",
   "name": "python",
   "nbconvert_exporter": "python",
   "pygments_lexer": "ipython3",
   "version": "3.6.8"
  }
 },
 "nbformat": 4,
 "nbformat_minor": 4
}
